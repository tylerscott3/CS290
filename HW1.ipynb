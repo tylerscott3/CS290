{
  "cells": [
    {
      "cell_type": "code",
      "source": [
        "import pandas as pd"
      ],
      "metadata": {
        "id": "N5ZZFhN31oLM"
      },
      "id": "N5ZZFhN31oLM",
      "execution_count": 1,
      "outputs": []
    },
    {
      "cell_type": "code",
      "source": [
        "df = pd.read_csv(\"https://github.com/tylerscott3/CS290/blob/9cdb46e27039223d5e73980268ff78ad5f8a35ea/Youtube-Spam-Dataset.csv\")"
      ],
      "metadata": {
        "id": "EugoEp4d2LIo"
      },
      "id": "EugoEp4d2LIo",
      "execution_count": null,
      "outputs": []
    }
  ],
  "metadata": {
    "colab": {
      "provenance": []
    },
    "language_info": {
      "name": "python"
    },
    "kernelspec": {
      "name": "python3",
      "display_name": "Python 3"
    }
  },
  "nbformat": 4,
  "nbformat_minor": 5
}