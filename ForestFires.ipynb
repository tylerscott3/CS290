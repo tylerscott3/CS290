{
  "nbformat": 4,
  "nbformat_minor": 0,
  "metadata": {
    "colab": {
      "provenance": [],
      "include_colab_link": true
    },
    "kernelspec": {
      "name": "python3",
      "display_name": "Python 3"
    },
    "language_info": {
      "name": "python"
    }
  },
  "cells": [
    {
      "cell_type": "markdown",
      "metadata": {
        "id": "view-in-github",
        "colab_type": "text"
      },
      "source": [
        "<a href=\"https://colab.research.google.com/github/tylerscott3/CS290/blob/main/ForestFires.ipynb\" target=\"_parent\"><img src=\"https://colab.research.google.com/assets/colab-badge.svg\" alt=\"Open In Colab\"/></a>"
      ]
    },
    {
      "cell_type": "code",
      "source": [
        "pip install ucimlrepo"
      ],
      "metadata": {
        "colab": {
          "base_uri": "https://localhost:8080/"
        },
        "id": "pllouFDFonyk",
        "outputId": "1219872a-2b06-4156-9faa-5463a1e75998"
      },
      "execution_count": 200,
      "outputs": [
        {
          "output_type": "stream",
          "name": "stdout",
          "text": [
            "Requirement already satisfied: ucimlrepo in /usr/local/lib/python3.10/dist-packages (0.0.7)\n",
            "Requirement already satisfied: pandas>=1.0.0 in /usr/local/lib/python3.10/dist-packages (from ucimlrepo) (2.2.2)\n",
            "Requirement already satisfied: certifi>=2020.12.5 in /usr/local/lib/python3.10/dist-packages (from ucimlrepo) (2024.8.30)\n",
            "Requirement already satisfied: numpy>=1.22.4 in /usr/local/lib/python3.10/dist-packages (from pandas>=1.0.0->ucimlrepo) (1.26.4)\n",
            "Requirement already satisfied: python-dateutil>=2.8.2 in /usr/local/lib/python3.10/dist-packages (from pandas>=1.0.0->ucimlrepo) (2.8.2)\n",
            "Requirement already satisfied: pytz>=2020.1 in /usr/local/lib/python3.10/dist-packages (from pandas>=1.0.0->ucimlrepo) (2024.2)\n",
            "Requirement already satisfied: tzdata>=2022.7 in /usr/local/lib/python3.10/dist-packages (from pandas>=1.0.0->ucimlrepo) (2024.2)\n",
            "Requirement already satisfied: six>=1.5 in /usr/local/lib/python3.10/dist-packages (from python-dateutil>=2.8.2->pandas>=1.0.0->ucimlrepo) (1.16.0)\n"
          ]
        }
      ]
    },
    {
      "cell_type": "code",
      "execution_count": 201,
      "metadata": {
        "id": "rvHYlQqakfT4"
      },
      "outputs": [],
      "source": [
        "import pandas as pd\n",
        "import math\n",
        "import numpy as np"
      ]
    },
    {
      "cell_type": "code",
      "source": [
        "from ucimlrepo import fetch_ucirepo\n",
        "\n",
        "# fetch dataset\n",
        "algerian_forest_fires = fetch_ucirepo(id=547)\n",
        "\n",
        "# data (as pandas dataframes)\n",
        "X = algerian_forest_fires.data.features\n",
        "y = algerian_forest_fires.data.targets\n",
        "\n",
        "# metadata\n",
        "print(algerian_forest_fires.metadata)\n",
        "\n",
        "# variable information\n",
        "print(algerian_forest_fires.variables)\n"
      ],
      "metadata": {
        "id": "D1XQmOpAl-vN",
        "colab": {
          "base_uri": "https://localhost:8080/"
        },
        "outputId": "3b0224eb-102a-4bab-a30c-38d374616597"
      },
      "execution_count": 202,
      "outputs": [
        {
          "output_type": "stream",
          "name": "stdout",
          "text": [
            "{'uci_id': 547, 'name': 'Algerian Forest Fires', 'repository_url': 'https://archive.ics.uci.edu/dataset/547/algerian+forest+fires+dataset', 'data_url': 'https://archive.ics.uci.edu/static/public/547/data.csv', 'abstract': 'The dataset includes 244 instances that regroup a data of two regions of Algeria.', 'area': 'Biology', 'tasks': ['Classification', 'Regression'], 'characteristics': ['Multivariate'], 'num_instances': 244, 'num_features': 14, 'feature_types': ['Real'], 'demographics': [], 'target_col': ['Classes  '], 'index_col': None, 'has_missing_values': 'no', 'missing_values_symbol': None, 'year_of_dataset_creation': 2019, 'last_updated': 'Tue Mar 19 2024', 'dataset_doi': '10.24432/C5KW4N', 'creators': [' Faroudja Abid'], 'intro_paper': {'ID': 325, 'type': 'NATIVE', 'title': ' Predicting Forest Fire in Algeria Using Data Mining Techniques: Case Study of the Decision Tree Algorithm', 'authors': 'Faroudja Abid, N.Izeboudjen', 'venue': 'Ezziyyani M. (eds) Advanced Intelligent Systems for Sustainable Development (AI2SD’2019). Advances in Intelligent Systems and Computing', 'year': 2020, 'journal': None, 'DOI': None, 'URL': 'https://rdcu.be/doIk7', 'sha': None, 'corpus': None, 'arxiv': None, 'mag': None, 'acl': None, 'pmid': None, 'pmcid': None}, 'additional_info': {'summary': 'The dataset includes 244 instances that regroup a data of two regions of Algeria,namely the Bejaia region located in the northeast of Algeria and the Sidi Bel-abbes region located in the northwest of Algeria.\\r\\n\\r\\n122 instances for each region. \\r\\n\\r\\nThe period from June 2012 to September 2012. \\r\\nThe dataset includes 11 attribues and 1 output attribue (class)\\r\\nThe 244 instances have been classified into â€˜fireâ€™ (138 classes) and â€˜not fireâ€™ (106 classes) classes.', 'purpose': None, 'funded_by': None, 'instances_represent': None, 'recommended_data_splits': None, 'sensitive_data': None, 'preprocessing_description': None, 'variable_info': \"1. Date : (DD/MM/YYYY) Day, month ('june' to 'september'), year (2012)\\r\\nWeather data observations \\r\\n2. Temp : temperature noon (temperature max)  in Celsius degrees: 22 to 42\\r\\n3. RH : Relative Humidity in %: 21 to 90 \\r\\n4. Ws :Wind speed in km/h: 6 to 29 \\r\\n5. Rain: total day in mm: 0 to 16.8\\r\\nFWI Components  \\r\\n6. Fine Fuel Moisture Code (FFMC) index from the FWI system: 28.6 to 92.5 \\r\\n7. Duff Moisture Code (DMC) index from the FWI system: 1.1 to 65.9 \\r\\n8. Drought Code (DC) index from the FWI system:  7 to 220.4\\r\\n9. Initial Spread Index (ISI) index from the FWI system: 0 to 18.5 \\r\\n10. Buildup Index (BUI) index from the FWI system: 1.1 to 68\\r\\n11. Fire Weather Index (FWI) Index: 0 to 31.1\\r\\n12. Classes: two classes, namely   â€œFireâ€\\x9d and â€œnot Fireâ€\\x9d\\r\\n\", 'citation': None}}\n",
            "           name     role         type demographic               description  \\\n",
            "0        region  Feature  Categorical        None  Bejaia or Sidi-Bel Abbes   \n",
            "1           day  Feature      Integer        None                      None   \n",
            "2         month  Feature      Integer        None                      None   \n",
            "3          year  Feature      Integer        None                      None   \n",
            "4   Temperature  Feature      Integer        None          temperature noon   \n",
            "5            RH  Feature      Integer        None         relative humidity   \n",
            "6            Ws  Feature      Integer        None                wind speed   \n",
            "7         Rain   Feature   Continuous        None                      None   \n",
            "8          FFMC  Feature   Continuous        None   Fine Fuel Moisture Code   \n",
            "9           DMC  Feature   Continuous        None        Duff Moisture Code   \n",
            "10           DC  Feature   Continuous        None              Drought Code   \n",
            "11          ISI  Feature   Continuous        None      Initial Spread Index   \n",
            "12          BUI  Feature   Continuous        None             Buildup Index   \n",
            "13          FWI  Feature   Continuous        None        Fire Weather Index   \n",
            "14    Classes     Target  Categorical        None                      None   \n",
            "\n",
            "   units missing_values  \n",
            "0   None             no  \n",
            "1   None             no  \n",
            "2   None             no  \n",
            "3   None             no  \n",
            "4      C             no  \n",
            "5      %             no  \n",
            "6   km/h             no  \n",
            "7     mm             no  \n",
            "8   None             no  \n",
            "9   None             no  \n",
            "10  None             no  \n",
            "11  None             no  \n",
            "12  None             no  \n",
            "13  None             no  \n",
            "14  None             no  \n"
          ]
        }
      ]
    },
    {
      "cell_type": "code",
      "source": [
        "X.info()"
      ],
      "metadata": {
        "colab": {
          "base_uri": "https://localhost:8080/"
        },
        "id": "gsdKT627mPsF",
        "outputId": "350c9823-ce8f-45e9-c20e-606c67d159d9"
      },
      "execution_count": 203,
      "outputs": [
        {
          "output_type": "stream",
          "name": "stdout",
          "text": [
            "<class 'pandas.core.frame.DataFrame'>\n",
            "RangeIndex: 244 entries, 0 to 243\n",
            "Data columns (total 14 columns):\n",
            " #   Column       Non-Null Count  Dtype  \n",
            "---  ------       --------------  -----  \n",
            " 0   region       244 non-null    object \n",
            " 1   day          244 non-null    int64  \n",
            " 2   month        244 non-null    int64  \n",
            " 3   year         244 non-null    int64  \n",
            " 4   Temperature  244 non-null    int64  \n",
            " 5    RH          244 non-null    int64  \n",
            " 6    Ws          244 non-null    int64  \n",
            " 7   Rain         244 non-null    float64\n",
            " 8   FFMC         244 non-null    float64\n",
            " 9   DMC          244 non-null    float64\n",
            " 10  DC           244 non-null    object \n",
            " 11  ISI          244 non-null    float64\n",
            " 12  BUI          244 non-null    float64\n",
            " 13  FWI          244 non-null    object \n",
            "dtypes: float64(5), int64(6), object(3)\n",
            "memory usage: 26.8+ KB\n"
          ]
        }
      ]
    },
    {
      "cell_type": "code",
      "source": [
        "y.info()"
      ],
      "metadata": {
        "colab": {
          "base_uri": "https://localhost:8080/"
        },
        "id": "VWVCcAStmGXk",
        "outputId": "63946a92-fa3f-4a97-d51b-4dad54670326"
      },
      "execution_count": 204,
      "outputs": [
        {
          "output_type": "stream",
          "name": "stdout",
          "text": [
            "<class 'pandas.core.frame.DataFrame'>\n",
            "RangeIndex: 244 entries, 0 to 243\n",
            "Data columns (total 1 columns):\n",
            " #   Column     Non-Null Count  Dtype \n",
            "---  ------     --------------  ----- \n",
            " 0   Classes    243 non-null    object\n",
            "dtypes: object(1)\n",
            "memory usage: 2.0+ KB\n"
          ]
        }
      ]
    },
    {
      "cell_type": "code",
      "source": [
        "\n",
        "df = pd.concat([X,y], axis=1)\n",
        "\n",
        "dfused = ['region', 'Temperature', ' RH', ' Ws', 'Rain ', 'FFMC', 'DMC', 'DC', 'ISI', 'BUI', 'FWI', 'month', \"Classes  \"]\n",
        "DFused = df[dfused]"
      ],
      "metadata": {
        "id": "6oCQavqw5bVQ"
      },
      "execution_count": 205,
      "outputs": []
    },
    {
      "cell_type": "code",
      "source": [
        "DFused.head()"
      ],
      "metadata": {
        "id": "wHUVhsWjqp5m",
        "colab": {
          "base_uri": "https://localhost:8080/",
          "height": 206
        },
        "outputId": "f52d9023-1ec5-4a4e-d474-f04a5b78d9b2"
      },
      "execution_count": 206,
      "outputs": [
        {
          "output_type": "execute_result",
          "data": {
            "text/plain": [
              "   region  Temperature   RH   Ws  Rain   FFMC  DMC    DC  ISI  BUI  FWI  \\\n",
              "0  Bejaia           29   57   18    0.0  65.7  3.4   7.6  1.3  3.4  0.5   \n",
              "1  Bejaia           29   61   13    1.3  64.4  4.1   7.6  1.0  3.9  0.4   \n",
              "2  Bejaia           26   82   22   13.1  47.1  2.5   7.1  0.3  2.7  0.1   \n",
              "3  Bejaia           25   89   13    2.5  28.6  1.3   6.9  0.0  1.7    0   \n",
              "4  Bejaia           27   77   16    0.0  64.8  3.0  14.2  1.2  3.9  0.5   \n",
              "\n",
              "   month    Classes    \n",
              "0      6  not fire     \n",
              "1      6  not fire     \n",
              "2      6  not fire     \n",
              "3      6  not fire     \n",
              "4      6  not fire     "
            ],
            "text/html": [
              "\n",
              "  <div id=\"df-fb18d3c6-655f-455c-96bc-ffac38084b77\" class=\"colab-df-container\">\n",
              "    <div>\n",
              "<style scoped>\n",
              "    .dataframe tbody tr th:only-of-type {\n",
              "        vertical-align: middle;\n",
              "    }\n",
              "\n",
              "    .dataframe tbody tr th {\n",
              "        vertical-align: top;\n",
              "    }\n",
              "\n",
              "    .dataframe thead th {\n",
              "        text-align: right;\n",
              "    }\n",
              "</style>\n",
              "<table border=\"1\" class=\"dataframe\">\n",
              "  <thead>\n",
              "    <tr style=\"text-align: right;\">\n",
              "      <th></th>\n",
              "      <th>region</th>\n",
              "      <th>Temperature</th>\n",
              "      <th>RH</th>\n",
              "      <th>Ws</th>\n",
              "      <th>Rain</th>\n",
              "      <th>FFMC</th>\n",
              "      <th>DMC</th>\n",
              "      <th>DC</th>\n",
              "      <th>ISI</th>\n",
              "      <th>BUI</th>\n",
              "      <th>FWI</th>\n",
              "      <th>month</th>\n",
              "      <th>Classes</th>\n",
              "    </tr>\n",
              "  </thead>\n",
              "  <tbody>\n",
              "    <tr>\n",
              "      <th>0</th>\n",
              "      <td>Bejaia</td>\n",
              "      <td>29</td>\n",
              "      <td>57</td>\n",
              "      <td>18</td>\n",
              "      <td>0.0</td>\n",
              "      <td>65.7</td>\n",
              "      <td>3.4</td>\n",
              "      <td>7.6</td>\n",
              "      <td>1.3</td>\n",
              "      <td>3.4</td>\n",
              "      <td>0.5</td>\n",
              "      <td>6</td>\n",
              "      <td>not fire</td>\n",
              "    </tr>\n",
              "    <tr>\n",
              "      <th>1</th>\n",
              "      <td>Bejaia</td>\n",
              "      <td>29</td>\n",
              "      <td>61</td>\n",
              "      <td>13</td>\n",
              "      <td>1.3</td>\n",
              "      <td>64.4</td>\n",
              "      <td>4.1</td>\n",
              "      <td>7.6</td>\n",
              "      <td>1.0</td>\n",
              "      <td>3.9</td>\n",
              "      <td>0.4</td>\n",
              "      <td>6</td>\n",
              "      <td>not fire</td>\n",
              "    </tr>\n",
              "    <tr>\n",
              "      <th>2</th>\n",
              "      <td>Bejaia</td>\n",
              "      <td>26</td>\n",
              "      <td>82</td>\n",
              "      <td>22</td>\n",
              "      <td>13.1</td>\n",
              "      <td>47.1</td>\n",
              "      <td>2.5</td>\n",
              "      <td>7.1</td>\n",
              "      <td>0.3</td>\n",
              "      <td>2.7</td>\n",
              "      <td>0.1</td>\n",
              "      <td>6</td>\n",
              "      <td>not fire</td>\n",
              "    </tr>\n",
              "    <tr>\n",
              "      <th>3</th>\n",
              "      <td>Bejaia</td>\n",
              "      <td>25</td>\n",
              "      <td>89</td>\n",
              "      <td>13</td>\n",
              "      <td>2.5</td>\n",
              "      <td>28.6</td>\n",
              "      <td>1.3</td>\n",
              "      <td>6.9</td>\n",
              "      <td>0.0</td>\n",
              "      <td>1.7</td>\n",
              "      <td>0</td>\n",
              "      <td>6</td>\n",
              "      <td>not fire</td>\n",
              "    </tr>\n",
              "    <tr>\n",
              "      <th>4</th>\n",
              "      <td>Bejaia</td>\n",
              "      <td>27</td>\n",
              "      <td>77</td>\n",
              "      <td>16</td>\n",
              "      <td>0.0</td>\n",
              "      <td>64.8</td>\n",
              "      <td>3.0</td>\n",
              "      <td>14.2</td>\n",
              "      <td>1.2</td>\n",
              "      <td>3.9</td>\n",
              "      <td>0.5</td>\n",
              "      <td>6</td>\n",
              "      <td>not fire</td>\n",
              "    </tr>\n",
              "  </tbody>\n",
              "</table>\n",
              "</div>\n",
              "    <div class=\"colab-df-buttons\">\n",
              "\n",
              "  <div class=\"colab-df-container\">\n",
              "    <button class=\"colab-df-convert\" onclick=\"convertToInteractive('df-fb18d3c6-655f-455c-96bc-ffac38084b77')\"\n",
              "            title=\"Convert this dataframe to an interactive table.\"\n",
              "            style=\"display:none;\">\n",
              "\n",
              "  <svg xmlns=\"http://www.w3.org/2000/svg\" height=\"24px\" viewBox=\"0 -960 960 960\">\n",
              "    <path d=\"M120-120v-720h720v720H120Zm60-500h600v-160H180v160Zm220 220h160v-160H400v160Zm0 220h160v-160H400v160ZM180-400h160v-160H180v160Zm440 0h160v-160H620v160ZM180-180h160v-160H180v160Zm440 0h160v-160H620v160Z\"/>\n",
              "  </svg>\n",
              "    </button>\n",
              "\n",
              "  <style>\n",
              "    .colab-df-container {\n",
              "      display:flex;\n",
              "      gap: 12px;\n",
              "    }\n",
              "\n",
              "    .colab-df-convert {\n",
              "      background-color: #E8F0FE;\n",
              "      border: none;\n",
              "      border-radius: 50%;\n",
              "      cursor: pointer;\n",
              "      display: none;\n",
              "      fill: #1967D2;\n",
              "      height: 32px;\n",
              "      padding: 0 0 0 0;\n",
              "      width: 32px;\n",
              "    }\n",
              "\n",
              "    .colab-df-convert:hover {\n",
              "      background-color: #E2EBFA;\n",
              "      box-shadow: 0px 1px 2px rgba(60, 64, 67, 0.3), 0px 1px 3px 1px rgba(60, 64, 67, 0.15);\n",
              "      fill: #174EA6;\n",
              "    }\n",
              "\n",
              "    .colab-df-buttons div {\n",
              "      margin-bottom: 4px;\n",
              "    }\n",
              "\n",
              "    [theme=dark] .colab-df-convert {\n",
              "      background-color: #3B4455;\n",
              "      fill: #D2E3FC;\n",
              "    }\n",
              "\n",
              "    [theme=dark] .colab-df-convert:hover {\n",
              "      background-color: #434B5C;\n",
              "      box-shadow: 0px 1px 3px 1px rgba(0, 0, 0, 0.15);\n",
              "      filter: drop-shadow(0px 1px 2px rgba(0, 0, 0, 0.3));\n",
              "      fill: #FFFFFF;\n",
              "    }\n",
              "  </style>\n",
              "\n",
              "    <script>\n",
              "      const buttonEl =\n",
              "        document.querySelector('#df-fb18d3c6-655f-455c-96bc-ffac38084b77 button.colab-df-convert');\n",
              "      buttonEl.style.display =\n",
              "        google.colab.kernel.accessAllowed ? 'block' : 'none';\n",
              "\n",
              "      async function convertToInteractive(key) {\n",
              "        const element = document.querySelector('#df-fb18d3c6-655f-455c-96bc-ffac38084b77');\n",
              "        const dataTable =\n",
              "          await google.colab.kernel.invokeFunction('convertToInteractive',\n",
              "                                                    [key], {});\n",
              "        if (!dataTable) return;\n",
              "\n",
              "        const docLinkHtml = 'Like what you see? Visit the ' +\n",
              "          '<a target=\"_blank\" href=https://colab.research.google.com/notebooks/data_table.ipynb>data table notebook</a>'\n",
              "          + ' to learn more about interactive tables.';\n",
              "        element.innerHTML = '';\n",
              "        dataTable['output_type'] = 'display_data';\n",
              "        await google.colab.output.renderOutput(dataTable, element);\n",
              "        const docLink = document.createElement('div');\n",
              "        docLink.innerHTML = docLinkHtml;\n",
              "        element.appendChild(docLink);\n",
              "      }\n",
              "    </script>\n",
              "  </div>\n",
              "\n",
              "\n",
              "<div id=\"df-6745341d-abeb-44c2-909f-0b539acfcf4f\">\n",
              "  <button class=\"colab-df-quickchart\" onclick=\"quickchart('df-6745341d-abeb-44c2-909f-0b539acfcf4f')\"\n",
              "            title=\"Suggest charts\"\n",
              "            style=\"display:none;\">\n",
              "\n",
              "<svg xmlns=\"http://www.w3.org/2000/svg\" height=\"24px\"viewBox=\"0 0 24 24\"\n",
              "     width=\"24px\">\n",
              "    <g>\n",
              "        <path d=\"M19 3H5c-1.1 0-2 .9-2 2v14c0 1.1.9 2 2 2h14c1.1 0 2-.9 2-2V5c0-1.1-.9-2-2-2zM9 17H7v-7h2v7zm4 0h-2V7h2v10zm4 0h-2v-4h2v4z\"/>\n",
              "    </g>\n",
              "</svg>\n",
              "  </button>\n",
              "\n",
              "<style>\n",
              "  .colab-df-quickchart {\n",
              "      --bg-color: #E8F0FE;\n",
              "      --fill-color: #1967D2;\n",
              "      --hover-bg-color: #E2EBFA;\n",
              "      --hover-fill-color: #174EA6;\n",
              "      --disabled-fill-color: #AAA;\n",
              "      --disabled-bg-color: #DDD;\n",
              "  }\n",
              "\n",
              "  [theme=dark] .colab-df-quickchart {\n",
              "      --bg-color: #3B4455;\n",
              "      --fill-color: #D2E3FC;\n",
              "      --hover-bg-color: #434B5C;\n",
              "      --hover-fill-color: #FFFFFF;\n",
              "      --disabled-bg-color: #3B4455;\n",
              "      --disabled-fill-color: #666;\n",
              "  }\n",
              "\n",
              "  .colab-df-quickchart {\n",
              "    background-color: var(--bg-color);\n",
              "    border: none;\n",
              "    border-radius: 50%;\n",
              "    cursor: pointer;\n",
              "    display: none;\n",
              "    fill: var(--fill-color);\n",
              "    height: 32px;\n",
              "    padding: 0;\n",
              "    width: 32px;\n",
              "  }\n",
              "\n",
              "  .colab-df-quickchart:hover {\n",
              "    background-color: var(--hover-bg-color);\n",
              "    box-shadow: 0 1px 2px rgba(60, 64, 67, 0.3), 0 1px 3px 1px rgba(60, 64, 67, 0.15);\n",
              "    fill: var(--button-hover-fill-color);\n",
              "  }\n",
              "\n",
              "  .colab-df-quickchart-complete:disabled,\n",
              "  .colab-df-quickchart-complete:disabled:hover {\n",
              "    background-color: var(--disabled-bg-color);\n",
              "    fill: var(--disabled-fill-color);\n",
              "    box-shadow: none;\n",
              "  }\n",
              "\n",
              "  .colab-df-spinner {\n",
              "    border: 2px solid var(--fill-color);\n",
              "    border-color: transparent;\n",
              "    border-bottom-color: var(--fill-color);\n",
              "    animation:\n",
              "      spin 1s steps(1) infinite;\n",
              "  }\n",
              "\n",
              "  @keyframes spin {\n",
              "    0% {\n",
              "      border-color: transparent;\n",
              "      border-bottom-color: var(--fill-color);\n",
              "      border-left-color: var(--fill-color);\n",
              "    }\n",
              "    20% {\n",
              "      border-color: transparent;\n",
              "      border-left-color: var(--fill-color);\n",
              "      border-top-color: var(--fill-color);\n",
              "    }\n",
              "    30% {\n",
              "      border-color: transparent;\n",
              "      border-left-color: var(--fill-color);\n",
              "      border-top-color: var(--fill-color);\n",
              "      border-right-color: var(--fill-color);\n",
              "    }\n",
              "    40% {\n",
              "      border-color: transparent;\n",
              "      border-right-color: var(--fill-color);\n",
              "      border-top-color: var(--fill-color);\n",
              "    }\n",
              "    60% {\n",
              "      border-color: transparent;\n",
              "      border-right-color: var(--fill-color);\n",
              "    }\n",
              "    80% {\n",
              "      border-color: transparent;\n",
              "      border-right-color: var(--fill-color);\n",
              "      border-bottom-color: var(--fill-color);\n",
              "    }\n",
              "    90% {\n",
              "      border-color: transparent;\n",
              "      border-bottom-color: var(--fill-color);\n",
              "    }\n",
              "  }\n",
              "</style>\n",
              "\n",
              "  <script>\n",
              "    async function quickchart(key) {\n",
              "      const quickchartButtonEl =\n",
              "        document.querySelector('#' + key + ' button');\n",
              "      quickchartButtonEl.disabled = true;  // To prevent multiple clicks.\n",
              "      quickchartButtonEl.classList.add('colab-df-spinner');\n",
              "      try {\n",
              "        const charts = await google.colab.kernel.invokeFunction(\n",
              "            'suggestCharts', [key], {});\n",
              "      } catch (error) {\n",
              "        console.error('Error during call to suggestCharts:', error);\n",
              "      }\n",
              "      quickchartButtonEl.classList.remove('colab-df-spinner');\n",
              "      quickchartButtonEl.classList.add('colab-df-quickchart-complete');\n",
              "    }\n",
              "    (() => {\n",
              "      let quickchartButtonEl =\n",
              "        document.querySelector('#df-6745341d-abeb-44c2-909f-0b539acfcf4f button');\n",
              "      quickchartButtonEl.style.display =\n",
              "        google.colab.kernel.accessAllowed ? 'block' : 'none';\n",
              "    })();\n",
              "  </script>\n",
              "</div>\n",
              "\n",
              "    </div>\n",
              "  </div>\n"
            ],
            "application/vnd.google.colaboratory.intrinsic+json": {
              "type": "dataframe",
              "variable_name": "DFused",
              "summary": "{\n  \"name\": \"DFused\",\n  \"rows\": 244,\n  \"fields\": [\n    {\n      \"column\": \"region\",\n      \"properties\": {\n        \"dtype\": \"category\",\n        \"num_unique_values\": 2,\n        \"samples\": [\n          \"Sidi-Bel Abbes\",\n          \"Bejaia\"\n        ],\n        \"semantic_type\": \"\",\n        \"description\": \"\"\n      }\n    },\n    {\n      \"column\": \"Temperature\",\n      \"properties\": {\n        \"dtype\": \"number\",\n        \"std\": 3,\n        \"min\": 22,\n        \"max\": 42,\n        \"num_unique_values\": 19,\n        \"samples\": [\n          29,\n          33\n        ],\n        \"semantic_type\": \"\",\n        \"description\": \"\"\n      }\n    },\n    {\n      \"column\": \" RH\",\n      \"properties\": {\n        \"dtype\": \"number\",\n        \"std\": 14,\n        \"min\": 21,\n        \"max\": 90,\n        \"num_unique_values\": 62,\n        \"samples\": [\n          83,\n          31\n        ],\n        \"semantic_type\": \"\",\n        \"description\": \"\"\n      }\n    },\n    {\n      \"column\": \" Ws\",\n      \"properties\": {\n        \"dtype\": \"number\",\n        \"std\": 2,\n        \"min\": 6,\n        \"max\": 29,\n        \"num_unique_values\": 18,\n        \"samples\": [\n          18,\n          13\n        ],\n        \"semantic_type\": \"\",\n        \"description\": \"\"\n      }\n    },\n    {\n      \"column\": \"Rain \",\n      \"properties\": {\n        \"dtype\": \"number\",\n        \"std\": 1.9994055650382752,\n        \"min\": 0.0,\n        \"max\": 16.8,\n        \"num_unique_values\": 39,\n        \"samples\": [\n          6.0,\n          4.1\n        ],\n        \"semantic_type\": \"\",\n        \"description\": \"\"\n      }\n    },\n    {\n      \"column\": \"FFMC\",\n      \"properties\": {\n        \"dtype\": \"number\",\n        \"std\": 14.337570880168094,\n        \"min\": 28.6,\n        \"max\": 96.0,\n        \"num_unique_values\": 173,\n        \"samples\": [\n          64.5,\n          72.6\n        ],\n        \"semantic_type\": \"\",\n        \"description\": \"\"\n      }\n    },\n    {\n      \"column\": \"DMC\",\n      \"properties\": {\n        \"dtype\": \"number\",\n        \"std\": 12.368038731955586,\n        \"min\": 0.7,\n        \"max\": 65.9,\n        \"num_unique_values\": 166,\n        \"samples\": [\n          11.4,\n          16.9\n        ],\n        \"semantic_type\": \"\",\n        \"description\": \"\"\n      }\n    },\n    {\n      \"column\": \"DC\",\n      \"properties\": {\n        \"dtype\": \"string\",\n        \"num_unique_values\": 198,\n        \"samples\": [\n          \"77\",\n          \"22.5\"\n        ],\n        \"semantic_type\": \"\",\n        \"description\": \"\"\n      }\n    },\n    {\n      \"column\": \"ISI\",\n      \"properties\": {\n        \"dtype\": \"number\",\n        \"std\": 4.175318097867136,\n        \"min\": 0.0,\n        \"max\": 19.0,\n        \"num_unique_values\": 106,\n        \"samples\": [\n          13.1,\n          4.8\n        ],\n        \"semantic_type\": \"\",\n        \"description\": \"\"\n      }\n    },\n    {\n      \"column\": \"BUI\",\n      \"properties\": {\n        \"dtype\": \"number\",\n        \"std\": 14.204823977055083,\n        \"min\": 1.1,\n        \"max\": 68.0,\n        \"num_unique_values\": 174,\n        \"samples\": [\n          30.6,\n          30.4\n        ],\n        \"semantic_type\": \"\",\n        \"description\": \"\"\n      }\n    },\n    {\n      \"column\": \"FWI\",\n      \"properties\": {\n        \"dtype\": \"string\",\n        \"num_unique_values\": 126,\n        \"samples\": [\n          \"1.9\",\n          \"13.9\"\n        ],\n        \"semantic_type\": \"\",\n        \"description\": \"\"\n      }\n    },\n    {\n      \"column\": \"month\",\n      \"properties\": {\n        \"dtype\": \"number\",\n        \"std\": 1,\n        \"min\": 6,\n        \"max\": 9,\n        \"num_unique_values\": 4,\n        \"samples\": [\n          7,\n          9\n        ],\n        \"semantic_type\": \"\",\n        \"description\": \"\"\n      }\n    },\n    {\n      \"column\": \"Classes  \",\n      \"properties\": {\n        \"dtype\": \"category\",\n        \"num_unique_values\": 8,\n        \"samples\": [\n          \"fire   \",\n          \"not fire \"\n        ],\n        \"semantic_type\": \"\",\n        \"description\": \"\"\n      }\n    }\n  ]\n}"
            }
          },
          "metadata": {},
          "execution_count": 206
        }
      ]
    },
    {
      "cell_type": "code",
      "source": [
        "DFused.nunique()"
      ],
      "metadata": {
        "colab": {
          "base_uri": "https://localhost:8080/",
          "height": 492
        },
        "id": "zXXmZTqtqsHP",
        "outputId": "3eae5fce-20a0-4898-b558-134866076d7c"
      },
      "execution_count": 207,
      "outputs": [
        {
          "output_type": "execute_result",
          "data": {
            "text/plain": [
              "region           2\n",
              "Temperature     19\n",
              " RH             62\n",
              " Ws             18\n",
              "Rain            39\n",
              "FFMC           173\n",
              "DMC            166\n",
              "DC             198\n",
              "ISI            106\n",
              "BUI            174\n",
              "FWI            126\n",
              "month            4\n",
              "Classes          8\n",
              "dtype: int64"
            ],
            "text/html": [
              "<div>\n",
              "<style scoped>\n",
              "    .dataframe tbody tr th:only-of-type {\n",
              "        vertical-align: middle;\n",
              "    }\n",
              "\n",
              "    .dataframe tbody tr th {\n",
              "        vertical-align: top;\n",
              "    }\n",
              "\n",
              "    .dataframe thead th {\n",
              "        text-align: right;\n",
              "    }\n",
              "</style>\n",
              "<table border=\"1\" class=\"dataframe\">\n",
              "  <thead>\n",
              "    <tr style=\"text-align: right;\">\n",
              "      <th></th>\n",
              "      <th>0</th>\n",
              "    </tr>\n",
              "  </thead>\n",
              "  <tbody>\n",
              "    <tr>\n",
              "      <th>region</th>\n",
              "      <td>2</td>\n",
              "    </tr>\n",
              "    <tr>\n",
              "      <th>Temperature</th>\n",
              "      <td>19</td>\n",
              "    </tr>\n",
              "    <tr>\n",
              "      <th>RH</th>\n",
              "      <td>62</td>\n",
              "    </tr>\n",
              "    <tr>\n",
              "      <th>Ws</th>\n",
              "      <td>18</td>\n",
              "    </tr>\n",
              "    <tr>\n",
              "      <th>Rain</th>\n",
              "      <td>39</td>\n",
              "    </tr>\n",
              "    <tr>\n",
              "      <th>FFMC</th>\n",
              "      <td>173</td>\n",
              "    </tr>\n",
              "    <tr>\n",
              "      <th>DMC</th>\n",
              "      <td>166</td>\n",
              "    </tr>\n",
              "    <tr>\n",
              "      <th>DC</th>\n",
              "      <td>198</td>\n",
              "    </tr>\n",
              "    <tr>\n",
              "      <th>ISI</th>\n",
              "      <td>106</td>\n",
              "    </tr>\n",
              "    <tr>\n",
              "      <th>BUI</th>\n",
              "      <td>174</td>\n",
              "    </tr>\n",
              "    <tr>\n",
              "      <th>FWI</th>\n",
              "      <td>126</td>\n",
              "    </tr>\n",
              "    <tr>\n",
              "      <th>month</th>\n",
              "      <td>4</td>\n",
              "    </tr>\n",
              "    <tr>\n",
              "      <th>Classes</th>\n",
              "      <td>8</td>\n",
              "    </tr>\n",
              "  </tbody>\n",
              "</table>\n",
              "</div><br><label><b>dtype:</b> int64</label>"
            ]
          },
          "metadata": {},
          "execution_count": 207
        }
      ]
    },
    {
      "cell_type": "code",
      "source": [
        "DFused.info()"
      ],
      "metadata": {
        "colab": {
          "base_uri": "https://localhost:8080/"
        },
        "id": "aJkHYJeL6b4t",
        "outputId": "fb211501-7a55-45e0-e15d-d10c0f652ff0"
      },
      "execution_count": 208,
      "outputs": [
        {
          "output_type": "stream",
          "name": "stdout",
          "text": [
            "<class 'pandas.core.frame.DataFrame'>\n",
            "RangeIndex: 244 entries, 0 to 243\n",
            "Data columns (total 13 columns):\n",
            " #   Column       Non-Null Count  Dtype  \n",
            "---  ------       --------------  -----  \n",
            " 0   region       244 non-null    object \n",
            " 1   Temperature  244 non-null    int64  \n",
            " 2    RH          244 non-null    int64  \n",
            " 3    Ws          244 non-null    int64  \n",
            " 4   Rain         244 non-null    float64\n",
            " 5   FFMC         244 non-null    float64\n",
            " 6   DMC          244 non-null    float64\n",
            " 7   DC           244 non-null    object \n",
            " 8   ISI          244 non-null    float64\n",
            " 9   BUI          244 non-null    float64\n",
            " 10  FWI          244 non-null    object \n",
            " 11  month        244 non-null    int64  \n",
            " 12  Classes      243 non-null    object \n",
            "dtypes: float64(5), int64(4), object(4)\n",
            "memory usage: 24.9+ KB\n"
          ]
        }
      ]
    },
    {
      "cell_type": "markdown",
      "source": [],
      "metadata": {
        "id": "FiCYjFLgEYbv"
      }
    },
    {
      "cell_type": "code",
      "source": [
        "# Calculate the entropy for a categorical feature\n",
        "def cat_var_entropy(df, target, feature):\n",
        "    entropies = []  # List to store entropy values\n",
        "    vals = df[feature].unique()  # Get unique values for the feature\n",
        "    overall = len(df)  # Total number of rows\n",
        "    for val in vals:\n",
        "        entropy = 0  # Initialize entropy for each unique value\n",
        "        subset_size = len(df[df[feature] == val])  # Size of subset for the current value\n",
        "        weight = subset_size / overall  # Weight of the subset\n",
        "        props = df[df[feature] == val][target].value_counts(normalize=True)  # Get the proportion of target values\n",
        "        for p in props:\n",
        "          entropy -= weight * (p * math.log2(p))  # Calculate entropy for the current value\n",
        "          entropies.append(entropy)  # Append entropy value to the list\n",
        "    return min(entropies)  # Return the minimum entropy value"
      ],
      "metadata": {
        "id": "0IHcI_yB6sMX"
      },
      "execution_count": 209,
      "outputs": []
    },
    {
      "cell_type": "code",
      "source": [
        "# Calculate the Gini index for a categorical feature\n",
        "def cat_var_gini(df, target, feature):\n",
        "    ginis = []  # List to store Gini values\n",
        "    vals = df[feature].unique()  # Get unique values for the feature\n",
        "    overall = len(df)  # Total number of rows\n",
        "    for val in vals:\n",
        "        subset_size = len(df[df[feature] == val])  # Size of subset for the current value\n",
        "        weight = subset_size / overall  # Weight of the subset\n",
        "        props = df[df[feature] == val][target].value_counts(normalize=True)  # Get the proportion of target values\n",
        "        gini = 1 - np.sum(np.square(props))  # Calculate Gini for the current value\n",
        "        gini.append(weight * gini)  # Append weighted Gini value to the list\n",
        "    return min(gini)  # Return the minimum Gini value"
      ],
      "metadata": {
        "id": "ddcPSBdF6sJx"
      },
      "execution_count": 210,
      "outputs": []
    },
    {
      "cell_type": "code",
      "source": [
        "def numeric_entropy(df, target, feature):\n",
        "    entropies = []  # List to store entropy values\n",
        "    splits = []  # List to store split points\n",
        "    vals = np.sort(df[feature].unique())  # Sorted unique values for the feature\n",
        "    overall = len(df)  # Total number of rows\n",
        "    for val in vals:\n",
        "        entropy = 0  # Initialize entropy for each unique value\n",
        "        # Split the data into two subsets: <= val and > val\n",
        "        left = df[df[feature] <= val][[feature, target]]\n",
        "        right = df[df[feature] > val][[feature, target]]\n",
        "\n",
        "        # Calculate the entropy for the left subset\n",
        "        props_left = left[target].value_counts(normalize=True)\n",
        "        weight_left = len(left) / overall\n",
        "        for prop in props_left:\n",
        "            if prop > 0:\n",
        "                entropy -= weight_left * prop * math.log2(prop)\n",
        "\n",
        "        # Calculate the entropy for the right subset\n",
        "        props_right = right[target].value_counts(normalize=True)\n",
        "        weight_right = len(right) / overall\n",
        "        for prop in props_right:\n",
        "            if prop > 0:\n",
        "                entropy -= weight_right * prop * math.log2(prop)\n",
        "\n",
        "        entropies.append(entropy)  # Append entropy value to the list\n",
        "        splits.append(val)  # Append split point to the list\n",
        "\n",
        "    min_entropy = np.min(entropies)  # Get the minimum entropy value\n",
        "    best_split = splits[np.argmin(entropies)]  # Find the corresponding split point\n",
        "    return min_entropy, best_split\n"
      ],
      "metadata": {
        "id": "EPreg3XI6sHK"
      },
      "execution_count": 211,
      "outputs": []
    },
    {
      "cell_type": "code",
      "source": [
        "# Calculate the Gini index for a quantitative feature\n",
        "def numeric_gini(df, target, feature):\n",
        "    ginis = []  # List to store Gini values\n",
        "    splits = []  # List to store split points\n",
        "    vals = np.sort(df[feature].unique())  # Sorted unique values for the feature\n",
        "    overall = len(df)  # Total number of rows\n",
        "    for val in vals:\n",
        "        gini = 0  # Initialize Gini index for each unique value\n",
        "        # Split the data into two subsets: <= val and > val\n",
        "        left = df[df[feature] <= val][[feature, target]]\n",
        "        right = df[df[feature] > val][[feature, target]]\n",
        "\n",
        "        # Calculate the Gini for the left subset\n",
        "        props_left = left[target].value_counts(normalize=True)\n",
        "        weight_left = len(left) / overall\n",
        "        gini_left = 1 - np.sum(np.square(props_left))\n",
        "\n",
        "        # Calculate the Gini for the right subset\n",
        "        props_right = right[target].value_counts(normalize=True)\n",
        "        weight_right = len(right) / overall\n",
        "        gini_right = 1 - np.sum(np.square(props_right))\n",
        "\n",
        "        # Combine Gini values and append to the list\n",
        "        gini = weight_left * gini_left + weight_right * gini_right\n",
        "        gini.append(gini)\n",
        "        splits.append(val)\n",
        "\n",
        "    min_gini = np.min(ginis)  # Get the minimum Gini value\n",
        "    best_split = splits[np.argmin(ginis)]  # Find the corresponding split point\n",
        "    return min_gini, best_split\n",
        "\n",
        "\n",
        "def cat_var_check(df, feature):\n",
        "    return df[feature].nunique() < 8  # A feature is considered categorical if it has fewer than 8 unique values\n"
      ],
      "metadata": {
        "id": "A_FbY1NC6sEo"
      },
      "execution_count": 212,
      "outputs": []
    },
    {
      "cell_type": "code",
      "source": [
        "# Main attribute selection method function\n",
        "def attribute_selection_method(df, target, measure):\n",
        "    cat_list = []  # Store results for categorical features\n",
        "    cat_feat_list = []  # Store categorical feature names\n",
        "    quant_list = []  # Store results for quantitative features\n",
        "    quant_feat_list = []  # Store quantitative feature names\n",
        "    splits = []  # Store best split points for quantitative features\n",
        "    features = df.columns.drop(target)  # Get all features except the target\n",
        "\n",
        "    for feature in features:\n",
        "        if cat_var_check(df, feature):  # If feature is categorical\n",
        "            if measure == 'entropy':\n",
        "                result = cat_var_entropy(df, target, feature)\n",
        "            elif measure == 'gini':\n",
        "                result = cat_var_gini(df, target, feature)\n",
        "            cat_list.append(result)\n",
        "            cat_feat_list.append(feature)\n",
        "        else:  # If feature is quantitative\n",
        "            if measure == 'entropy':\n",
        "                min_entropy, best_split = numeric_entropy(df, target, feature)\n",
        "                quant_list.append(min_entropy)\n",
        "                splits.append(best_split)\n",
        "            elif measure == 'gini':\n",
        "                min_gini, best_split = numeric_gini(df, target, feature)\n",
        "                quant_list.append(min_gini)\n",
        "                splits.append(best_split)\n",
        "            quant_feat_list.append(feature)\n",
        "\n",
        "    # Determine the best feature and split point\n",
        "    if cat_list and min(cat_list) <= min(quant_list):\n",
        "        return cat_feat_list[np.argmin(cat_list)]\n",
        "    else:\n",
        "        best_index = np.argmin(quant_list)\n",
        "        return quant_feat_list[best_index], splits[best_index]"
      ],
      "metadata": {
        "id": "lI9WPYUy6sCN"
      },
      "execution_count": 213,
      "outputs": []
    },
    {
      "cell_type": "code",
      "source": [
        "def mean_sq_error_cat(df, target, feature):\n",
        "    MSE = []\n",
        "    splits = []\n",
        "    vals = df[feature].unique()\n",
        "    overall = len(df)\n",
        "\n",
        "    for val in vals:\n",
        "        # Split into left (matching category) and right (not matching category) subsets\n",
        "        left = df[df[feature] == val][target]\n",
        "        right = df[df[feature] != val][target]\n",
        "\n",
        "        # Calculate MSE for left and right subsets\n",
        "        if len(left) > 0:\n",
        "            mse_left = np.mean((left - left.mean()) ** 2)\n",
        "        else:\n",
        "            mse_left = 0\n",
        "\n",
        "        if len(right) > 0:\n",
        "            mse_right = np.mean((right - right.mean()) ** 2)\n",
        "        else:\n",
        "            mse_right = 0\n",
        "\n",
        "        # Weighted average of the MSEs\n",
        "        weight_left = len(left) / overall\n",
        "        weight_right = len(right) / overall\n",
        "        mse = weight_left * mse_left + weight_right * mse_right\n",
        "\n",
        "        MSE.append(mse)\n",
        "        splits.append(val)\n",
        "\n",
        "    # Return the minimum MSE value and the best category split\n",
        "    min_mse = np.min(MSE)\n",
        "    best_split = splits[np.argmin(MSE)]\n",
        "    return min_mse, best_split"
      ],
      "metadata": {
        "id": "OGaOF_Py6r_m"
      },
      "execution_count": 239,
      "outputs": []
    },
    {
      "cell_type": "code",
      "source": [
        "# Mean Squared Error for quantitative features for regression\n",
        "def mean_sq_error_numeric(df, target, feature):\n",
        "    MSE = []\n",
        "    splits = []\n",
        "    vals = np.sort(df[feature].unique())\n",
        "    overall = len(df)\n",
        "\n",
        "    for val in vals:\n",
        "        # Split into left and right subsets\n",
        "        left = df[df[feature] <= val][target]\n",
        "        right = df[df[feature] > val][target]\n",
        "\n",
        "        # Calculate MSE for left and right subsets\n",
        "        if len(left) > 0:\n",
        "            mse_left = np.mean((left - left.mean()) ** 2)\n",
        "        else:\n",
        "            mse_left = 0\n",
        "\n",
        "        if len(right) > 0:\n",
        "            mse_right = np.mean((right - right.mean()) ** 2)\n",
        "        else:\n",
        "            mse_right = 0\n",
        "\n",
        "        # Weighted average of the MSEs\n",
        "        weight_left = len(left) / overall\n",
        "        weight_right = len(right) / overall\n",
        "        mse = weight_left * mse_left + weight_right * mse_right\n",
        "\n",
        "        MSE.append(mse)\n",
        "        splits.append(val)\n",
        "\n",
        "    #return the minimum mean squared errror value as well as the split at the matching index\n",
        "    min_mse = np.min(MSE)\n",
        "    best_split = splits[np.argmin(MSE)]\n",
        "    return min_mse, best_split"
      ],
      "metadata": {
        "id": "3S209LNH6r6s"
      },
      "execution_count": 240,
      "outputs": []
    },
    {
      "cell_type": "code",
      "source": [
        "mean_sq_error_cat(DFused, 'Rain ', \"Classes  \")"
      ],
      "metadata": {
        "colab": {
          "base_uri": "https://localhost:8080/"
        },
        "id": "0IPYBJmG9uKZ",
        "outputId": "609d144b-bc09-43c1-bd07-e84860f115cd"
      },
      "execution_count": 241,
      "outputs": [
        {
          "output_type": "execute_result",
          "data": {
            "text/plain": [
              "(2.65049959355101, 'not fire')"
            ]
          },
          "metadata": {},
          "execution_count": 241
        }
      ]
    },
    {
      "cell_type": "code",
      "source": [
        "mean_sq_error_cat(DFused, \"Rain \", 'month')"
      ],
      "metadata": {
        "colab": {
          "base_uri": "https://localhost:8080/"
        },
        "id": "J9dDtTfw9uGh",
        "outputId": "dc860e87-e462-485b-d869-366ef2cf10c1"
      },
      "execution_count": 242,
      "outputs": [
        {
          "output_type": "execute_result",
          "data": {
            "text/plain": [
              "(3.9215949602043234, 9)"
            ]
          },
          "metadata": {},
          "execution_count": 242
        }
      ]
    },
    {
      "cell_type": "code",
      "source": [
        "def reg_selection(df, target):\n",
        "    cat_list = []  # Store results for categorical features\n",
        "    cat_feat_list = []  # Store categorical feature names\n",
        "    quant_list = []  # Store results for quantitative features\n",
        "    quant_feat_list = []  # Store quantitative feature names\n",
        "    splits = []  # Store best split points for quantitative features\n",
        "    features = df.columns.drop(target)  # Get all features except the target\n",
        "\n",
        "    for feature in features:\n",
        "        if cat_var_check(df, feature):  # If feature is categorical\n",
        "            min_mse, _ = mean_sq_error_cat(df, target, feature)\n",
        "            cat_list.append(min_mse)\n",
        "            cat_feat_list.append(feature)\n",
        "\n",
        "        elif not cat_var_check(df, feature):  # If feature is quantitative\n",
        "            min_mse, best_split = mean_sq_error_numeric(df, target, feature)\n",
        "            quant_list.append(min_mse)\n",
        "            quant_feat_list.append(feature)\n",
        "            splits.append(best_split)\n",
        "\n",
        "\n",
        "     # Determine the best feature and split point\n",
        "    if cat_list and min(cat_list) <= min(quant_list):\n",
        "        return cat_feat_list[np.argmin(cat_list)]\n",
        "    else:\n",
        "        best_index = np.argmin(quant_list)\n",
        "        return quant_feat_list[best_index], splits[best_index]"
      ],
      "metadata": {
        "id": "0bNcjZKRDuf3"
      },
      "execution_count": 243,
      "outputs": []
    },
    {
      "cell_type": "code",
      "source": [
        "DFused.head()"
      ],
      "metadata": {
        "colab": {
          "base_uri": "https://localhost:8080/",
          "height": 206
        },
        "id": "VIEJj-hHElgT",
        "outputId": "3cc66a68-f3ce-42e4-9ff9-1081baf5b5a0"
      },
      "execution_count": 244,
      "outputs": [
        {
          "output_type": "execute_result",
          "data": {
            "text/plain": [
              "   region  Temperature   RH   Ws  Rain   FFMC  DMC    DC  ISI  BUI  FWI  \\\n",
              "0  Bejaia           29   57   18    0.0  65.7  3.4   7.6  1.3  3.4  0.5   \n",
              "1  Bejaia           29   61   13    1.3  64.4  4.1   7.6  1.0  3.9  0.4   \n",
              "2  Bejaia           26   82   22   13.1  47.1  2.5   7.1  0.3  2.7  0.1   \n",
              "3  Bejaia           25   89   13    2.5  28.6  1.3   6.9  0.0  1.7    0   \n",
              "4  Bejaia           27   77   16    0.0  64.8  3.0  14.2  1.2  3.9  0.5   \n",
              "\n",
              "   month    Classes    \n",
              "0      6  not fire     \n",
              "1      6  not fire     \n",
              "2      6  not fire     \n",
              "3      6  not fire     \n",
              "4      6  not fire     "
            ],
            "text/html": [
              "\n",
              "  <div id=\"df-5e8d9999-3e12-41b0-8307-80ca3c10a120\" class=\"colab-df-container\">\n",
              "    <div>\n",
              "<style scoped>\n",
              "    .dataframe tbody tr th:only-of-type {\n",
              "        vertical-align: middle;\n",
              "    }\n",
              "\n",
              "    .dataframe tbody tr th {\n",
              "        vertical-align: top;\n",
              "    }\n",
              "\n",
              "    .dataframe thead th {\n",
              "        text-align: right;\n",
              "    }\n",
              "</style>\n",
              "<table border=\"1\" class=\"dataframe\">\n",
              "  <thead>\n",
              "    <tr style=\"text-align: right;\">\n",
              "      <th></th>\n",
              "      <th>region</th>\n",
              "      <th>Temperature</th>\n",
              "      <th>RH</th>\n",
              "      <th>Ws</th>\n",
              "      <th>Rain</th>\n",
              "      <th>FFMC</th>\n",
              "      <th>DMC</th>\n",
              "      <th>DC</th>\n",
              "      <th>ISI</th>\n",
              "      <th>BUI</th>\n",
              "      <th>FWI</th>\n",
              "      <th>month</th>\n",
              "      <th>Classes</th>\n",
              "    </tr>\n",
              "  </thead>\n",
              "  <tbody>\n",
              "    <tr>\n",
              "      <th>0</th>\n",
              "      <td>Bejaia</td>\n",
              "      <td>29</td>\n",
              "      <td>57</td>\n",
              "      <td>18</td>\n",
              "      <td>0.0</td>\n",
              "      <td>65.7</td>\n",
              "      <td>3.4</td>\n",
              "      <td>7.6</td>\n",
              "      <td>1.3</td>\n",
              "      <td>3.4</td>\n",
              "      <td>0.5</td>\n",
              "      <td>6</td>\n",
              "      <td>not fire</td>\n",
              "    </tr>\n",
              "    <tr>\n",
              "      <th>1</th>\n",
              "      <td>Bejaia</td>\n",
              "      <td>29</td>\n",
              "      <td>61</td>\n",
              "      <td>13</td>\n",
              "      <td>1.3</td>\n",
              "      <td>64.4</td>\n",
              "      <td>4.1</td>\n",
              "      <td>7.6</td>\n",
              "      <td>1.0</td>\n",
              "      <td>3.9</td>\n",
              "      <td>0.4</td>\n",
              "      <td>6</td>\n",
              "      <td>not fire</td>\n",
              "    </tr>\n",
              "    <tr>\n",
              "      <th>2</th>\n",
              "      <td>Bejaia</td>\n",
              "      <td>26</td>\n",
              "      <td>82</td>\n",
              "      <td>22</td>\n",
              "      <td>13.1</td>\n",
              "      <td>47.1</td>\n",
              "      <td>2.5</td>\n",
              "      <td>7.1</td>\n",
              "      <td>0.3</td>\n",
              "      <td>2.7</td>\n",
              "      <td>0.1</td>\n",
              "      <td>6</td>\n",
              "      <td>not fire</td>\n",
              "    </tr>\n",
              "    <tr>\n",
              "      <th>3</th>\n",
              "      <td>Bejaia</td>\n",
              "      <td>25</td>\n",
              "      <td>89</td>\n",
              "      <td>13</td>\n",
              "      <td>2.5</td>\n",
              "      <td>28.6</td>\n",
              "      <td>1.3</td>\n",
              "      <td>6.9</td>\n",
              "      <td>0.0</td>\n",
              "      <td>1.7</td>\n",
              "      <td>0</td>\n",
              "      <td>6</td>\n",
              "      <td>not fire</td>\n",
              "    </tr>\n",
              "    <tr>\n",
              "      <th>4</th>\n",
              "      <td>Bejaia</td>\n",
              "      <td>27</td>\n",
              "      <td>77</td>\n",
              "      <td>16</td>\n",
              "      <td>0.0</td>\n",
              "      <td>64.8</td>\n",
              "      <td>3.0</td>\n",
              "      <td>14.2</td>\n",
              "      <td>1.2</td>\n",
              "      <td>3.9</td>\n",
              "      <td>0.5</td>\n",
              "      <td>6</td>\n",
              "      <td>not fire</td>\n",
              "    </tr>\n",
              "  </tbody>\n",
              "</table>\n",
              "</div>\n",
              "    <div class=\"colab-df-buttons\">\n",
              "\n",
              "  <div class=\"colab-df-container\">\n",
              "    <button class=\"colab-df-convert\" onclick=\"convertToInteractive('df-5e8d9999-3e12-41b0-8307-80ca3c10a120')\"\n",
              "            title=\"Convert this dataframe to an interactive table.\"\n",
              "            style=\"display:none;\">\n",
              "\n",
              "  <svg xmlns=\"http://www.w3.org/2000/svg\" height=\"24px\" viewBox=\"0 -960 960 960\">\n",
              "    <path d=\"M120-120v-720h720v720H120Zm60-500h600v-160H180v160Zm220 220h160v-160H400v160Zm0 220h160v-160H400v160ZM180-400h160v-160H180v160Zm440 0h160v-160H620v160ZM180-180h160v-160H180v160Zm440 0h160v-160H620v160Z\"/>\n",
              "  </svg>\n",
              "    </button>\n",
              "\n",
              "  <style>\n",
              "    .colab-df-container {\n",
              "      display:flex;\n",
              "      gap: 12px;\n",
              "    }\n",
              "\n",
              "    .colab-df-convert {\n",
              "      background-color: #E8F0FE;\n",
              "      border: none;\n",
              "      border-radius: 50%;\n",
              "      cursor: pointer;\n",
              "      display: none;\n",
              "      fill: #1967D2;\n",
              "      height: 32px;\n",
              "      padding: 0 0 0 0;\n",
              "      width: 32px;\n",
              "    }\n",
              "\n",
              "    .colab-df-convert:hover {\n",
              "      background-color: #E2EBFA;\n",
              "      box-shadow: 0px 1px 2px rgba(60, 64, 67, 0.3), 0px 1px 3px 1px rgba(60, 64, 67, 0.15);\n",
              "      fill: #174EA6;\n",
              "    }\n",
              "\n",
              "    .colab-df-buttons div {\n",
              "      margin-bottom: 4px;\n",
              "    }\n",
              "\n",
              "    [theme=dark] .colab-df-convert {\n",
              "      background-color: #3B4455;\n",
              "      fill: #D2E3FC;\n",
              "    }\n",
              "\n",
              "    [theme=dark] .colab-df-convert:hover {\n",
              "      background-color: #434B5C;\n",
              "      box-shadow: 0px 1px 3px 1px rgba(0, 0, 0, 0.15);\n",
              "      filter: drop-shadow(0px 1px 2px rgba(0, 0, 0, 0.3));\n",
              "      fill: #FFFFFF;\n",
              "    }\n",
              "  </style>\n",
              "\n",
              "    <script>\n",
              "      const buttonEl =\n",
              "        document.querySelector('#df-5e8d9999-3e12-41b0-8307-80ca3c10a120 button.colab-df-convert');\n",
              "      buttonEl.style.display =\n",
              "        google.colab.kernel.accessAllowed ? 'block' : 'none';\n",
              "\n",
              "      async function convertToInteractive(key) {\n",
              "        const element = document.querySelector('#df-5e8d9999-3e12-41b0-8307-80ca3c10a120');\n",
              "        const dataTable =\n",
              "          await google.colab.kernel.invokeFunction('convertToInteractive',\n",
              "                                                    [key], {});\n",
              "        if (!dataTable) return;\n",
              "\n",
              "        const docLinkHtml = 'Like what you see? Visit the ' +\n",
              "          '<a target=\"_blank\" href=https://colab.research.google.com/notebooks/data_table.ipynb>data table notebook</a>'\n",
              "          + ' to learn more about interactive tables.';\n",
              "        element.innerHTML = '';\n",
              "        dataTable['output_type'] = 'display_data';\n",
              "        await google.colab.output.renderOutput(dataTable, element);\n",
              "        const docLink = document.createElement('div');\n",
              "        docLink.innerHTML = docLinkHtml;\n",
              "        element.appendChild(docLink);\n",
              "      }\n",
              "    </script>\n",
              "  </div>\n",
              "\n",
              "\n",
              "<div id=\"df-26d2adf9-98be-420e-b1b8-e417633bc108\">\n",
              "  <button class=\"colab-df-quickchart\" onclick=\"quickchart('df-26d2adf9-98be-420e-b1b8-e417633bc108')\"\n",
              "            title=\"Suggest charts\"\n",
              "            style=\"display:none;\">\n",
              "\n",
              "<svg xmlns=\"http://www.w3.org/2000/svg\" height=\"24px\"viewBox=\"0 0 24 24\"\n",
              "     width=\"24px\">\n",
              "    <g>\n",
              "        <path d=\"M19 3H5c-1.1 0-2 .9-2 2v14c0 1.1.9 2 2 2h14c1.1 0 2-.9 2-2V5c0-1.1-.9-2-2-2zM9 17H7v-7h2v7zm4 0h-2V7h2v10zm4 0h-2v-4h2v4z\"/>\n",
              "    </g>\n",
              "</svg>\n",
              "  </button>\n",
              "\n",
              "<style>\n",
              "  .colab-df-quickchart {\n",
              "      --bg-color: #E8F0FE;\n",
              "      --fill-color: #1967D2;\n",
              "      --hover-bg-color: #E2EBFA;\n",
              "      --hover-fill-color: #174EA6;\n",
              "      --disabled-fill-color: #AAA;\n",
              "      --disabled-bg-color: #DDD;\n",
              "  }\n",
              "\n",
              "  [theme=dark] .colab-df-quickchart {\n",
              "      --bg-color: #3B4455;\n",
              "      --fill-color: #D2E3FC;\n",
              "      --hover-bg-color: #434B5C;\n",
              "      --hover-fill-color: #FFFFFF;\n",
              "      --disabled-bg-color: #3B4455;\n",
              "      --disabled-fill-color: #666;\n",
              "  }\n",
              "\n",
              "  .colab-df-quickchart {\n",
              "    background-color: var(--bg-color);\n",
              "    border: none;\n",
              "    border-radius: 50%;\n",
              "    cursor: pointer;\n",
              "    display: none;\n",
              "    fill: var(--fill-color);\n",
              "    height: 32px;\n",
              "    padding: 0;\n",
              "    width: 32px;\n",
              "  }\n",
              "\n",
              "  .colab-df-quickchart:hover {\n",
              "    background-color: var(--hover-bg-color);\n",
              "    box-shadow: 0 1px 2px rgba(60, 64, 67, 0.3), 0 1px 3px 1px rgba(60, 64, 67, 0.15);\n",
              "    fill: var(--button-hover-fill-color);\n",
              "  }\n",
              "\n",
              "  .colab-df-quickchart-complete:disabled,\n",
              "  .colab-df-quickchart-complete:disabled:hover {\n",
              "    background-color: var(--disabled-bg-color);\n",
              "    fill: var(--disabled-fill-color);\n",
              "    box-shadow: none;\n",
              "  }\n",
              "\n",
              "  .colab-df-spinner {\n",
              "    border: 2px solid var(--fill-color);\n",
              "    border-color: transparent;\n",
              "    border-bottom-color: var(--fill-color);\n",
              "    animation:\n",
              "      spin 1s steps(1) infinite;\n",
              "  }\n",
              "\n",
              "  @keyframes spin {\n",
              "    0% {\n",
              "      border-color: transparent;\n",
              "      border-bottom-color: var(--fill-color);\n",
              "      border-left-color: var(--fill-color);\n",
              "    }\n",
              "    20% {\n",
              "      border-color: transparent;\n",
              "      border-left-color: var(--fill-color);\n",
              "      border-top-color: var(--fill-color);\n",
              "    }\n",
              "    30% {\n",
              "      border-color: transparent;\n",
              "      border-left-color: var(--fill-color);\n",
              "      border-top-color: var(--fill-color);\n",
              "      border-right-color: var(--fill-color);\n",
              "    }\n",
              "    40% {\n",
              "      border-color: transparent;\n",
              "      border-right-color: var(--fill-color);\n",
              "      border-top-color: var(--fill-color);\n",
              "    }\n",
              "    60% {\n",
              "      border-color: transparent;\n",
              "      border-right-color: var(--fill-color);\n",
              "    }\n",
              "    80% {\n",
              "      border-color: transparent;\n",
              "      border-right-color: var(--fill-color);\n",
              "      border-bottom-color: var(--fill-color);\n",
              "    }\n",
              "    90% {\n",
              "      border-color: transparent;\n",
              "      border-bottom-color: var(--fill-color);\n",
              "    }\n",
              "  }\n",
              "</style>\n",
              "\n",
              "  <script>\n",
              "    async function quickchart(key) {\n",
              "      const quickchartButtonEl =\n",
              "        document.querySelector('#' + key + ' button');\n",
              "      quickchartButtonEl.disabled = true;  // To prevent multiple clicks.\n",
              "      quickchartButtonEl.classList.add('colab-df-spinner');\n",
              "      try {\n",
              "        const charts = await google.colab.kernel.invokeFunction(\n",
              "            'suggestCharts', [key], {});\n",
              "      } catch (error) {\n",
              "        console.error('Error during call to suggestCharts:', error);\n",
              "      }\n",
              "      quickchartButtonEl.classList.remove('colab-df-spinner');\n",
              "      quickchartButtonEl.classList.add('colab-df-quickchart-complete');\n",
              "    }\n",
              "    (() => {\n",
              "      let quickchartButtonEl =\n",
              "        document.querySelector('#df-26d2adf9-98be-420e-b1b8-e417633bc108 button');\n",
              "      quickchartButtonEl.style.display =\n",
              "        google.colab.kernel.accessAllowed ? 'block' : 'none';\n",
              "    })();\n",
              "  </script>\n",
              "</div>\n",
              "\n",
              "    </div>\n",
              "  </div>\n"
            ],
            "application/vnd.google.colaboratory.intrinsic+json": {
              "type": "dataframe",
              "variable_name": "DFused",
              "summary": "{\n  \"name\": \"DFused\",\n  \"rows\": 244,\n  \"fields\": [\n    {\n      \"column\": \"region\",\n      \"properties\": {\n        \"dtype\": \"category\",\n        \"num_unique_values\": 2,\n        \"samples\": [\n          \"Sidi-Bel Abbes\",\n          \"Bejaia\"\n        ],\n        \"semantic_type\": \"\",\n        \"description\": \"\"\n      }\n    },\n    {\n      \"column\": \"Temperature\",\n      \"properties\": {\n        \"dtype\": \"number\",\n        \"std\": 3,\n        \"min\": 22,\n        \"max\": 42,\n        \"num_unique_values\": 19,\n        \"samples\": [\n          29,\n          33\n        ],\n        \"semantic_type\": \"\",\n        \"description\": \"\"\n      }\n    },\n    {\n      \"column\": \" RH\",\n      \"properties\": {\n        \"dtype\": \"number\",\n        \"std\": 14,\n        \"min\": 21,\n        \"max\": 90,\n        \"num_unique_values\": 62,\n        \"samples\": [\n          83,\n          31\n        ],\n        \"semantic_type\": \"\",\n        \"description\": \"\"\n      }\n    },\n    {\n      \"column\": \" Ws\",\n      \"properties\": {\n        \"dtype\": \"number\",\n        \"std\": 2,\n        \"min\": 6,\n        \"max\": 29,\n        \"num_unique_values\": 18,\n        \"samples\": [\n          18,\n          13\n        ],\n        \"semantic_type\": \"\",\n        \"description\": \"\"\n      }\n    },\n    {\n      \"column\": \"Rain \",\n      \"properties\": {\n        \"dtype\": \"number\",\n        \"std\": 1.9994055650382752,\n        \"min\": 0.0,\n        \"max\": 16.8,\n        \"num_unique_values\": 39,\n        \"samples\": [\n          6.0,\n          4.1\n        ],\n        \"semantic_type\": \"\",\n        \"description\": \"\"\n      }\n    },\n    {\n      \"column\": \"FFMC\",\n      \"properties\": {\n        \"dtype\": \"number\",\n        \"std\": 14.337570880168094,\n        \"min\": 28.6,\n        \"max\": 96.0,\n        \"num_unique_values\": 173,\n        \"samples\": [\n          64.5,\n          72.6\n        ],\n        \"semantic_type\": \"\",\n        \"description\": \"\"\n      }\n    },\n    {\n      \"column\": \"DMC\",\n      \"properties\": {\n        \"dtype\": \"number\",\n        \"std\": 12.368038731955586,\n        \"min\": 0.7,\n        \"max\": 65.9,\n        \"num_unique_values\": 166,\n        \"samples\": [\n          11.4,\n          16.9\n        ],\n        \"semantic_type\": \"\",\n        \"description\": \"\"\n      }\n    },\n    {\n      \"column\": \"DC\",\n      \"properties\": {\n        \"dtype\": \"string\",\n        \"num_unique_values\": 198,\n        \"samples\": [\n          \"77\",\n          \"22.5\"\n        ],\n        \"semantic_type\": \"\",\n        \"description\": \"\"\n      }\n    },\n    {\n      \"column\": \"ISI\",\n      \"properties\": {\n        \"dtype\": \"number\",\n        \"std\": 4.175318097867136,\n        \"min\": 0.0,\n        \"max\": 19.0,\n        \"num_unique_values\": 106,\n        \"samples\": [\n          13.1,\n          4.8\n        ],\n        \"semantic_type\": \"\",\n        \"description\": \"\"\n      }\n    },\n    {\n      \"column\": \"BUI\",\n      \"properties\": {\n        \"dtype\": \"number\",\n        \"std\": 14.204823977055083,\n        \"min\": 1.1,\n        \"max\": 68.0,\n        \"num_unique_values\": 174,\n        \"samples\": [\n          30.6,\n          30.4\n        ],\n        \"semantic_type\": \"\",\n        \"description\": \"\"\n      }\n    },\n    {\n      \"column\": \"FWI\",\n      \"properties\": {\n        \"dtype\": \"string\",\n        \"num_unique_values\": 126,\n        \"samples\": [\n          \"1.9\",\n          \"13.9\"\n        ],\n        \"semantic_type\": \"\",\n        \"description\": \"\"\n      }\n    },\n    {\n      \"column\": \"month\",\n      \"properties\": {\n        \"dtype\": \"number\",\n        \"std\": 1,\n        \"min\": 6,\n        \"max\": 9,\n        \"num_unique_values\": 4,\n        \"samples\": [\n          7,\n          9\n        ],\n        \"semantic_type\": \"\",\n        \"description\": \"\"\n      }\n    },\n    {\n      \"column\": \"Classes  \",\n      \"properties\": {\n        \"dtype\": \"category\",\n        \"num_unique_values\": 8,\n        \"samples\": [\n          \"fire   \",\n          \"not fire \"\n        ],\n        \"semantic_type\": \"\",\n        \"description\": \"\"\n      }\n    }\n  ]\n}"
            }
          },
          "metadata": {},
          "execution_count": 244
        }
      ]
    },
    {
      "cell_type": "code",
      "source": [
        "def attribute_selection_method1(df, target, task, measure=None):\n",
        "    if task == 'classification':\n",
        "        return attribute_selection_method(df, target, measure)\n",
        "    elif task == 'regression':\n",
        "        return reg_selection(df, target)\n",
        "    else:\n",
        "        raise ValueError(\"Invalid task. Must be 'classification' or 'regression'.\")"
      ],
      "metadata": {
        "id": "s4VhnQBXDuY7"
      },
      "execution_count": 249,
      "outputs": []
    },
    {
      "cell_type": "code",
      "source": [],
      "metadata": {
        "id": "3Q5wckaYDuWf"
      },
      "execution_count": null,
      "outputs": []
    },
    {
      "cell_type": "code",
      "source": [
        "from sklearn.model_selection import train_test_split\n",
        "train_set, test_set = train_test_split(DFused, test_size=0.2)\n",
        "\n",
        "X_train = train_set[['region', 'Temperature', ' RH',\"Rain \", ' Ws',  'FFMC', 'DMC', 'DC', 'ISI', 'BUI', 'FWI', 'month']]\n",
        "y_train = train_set['Temperature']\n",
        "X_test = test_set[['region', 'Temperature', ' RH',\"Rain \", ' Ws',  'FFMC', 'DMC', 'DC', 'ISI', 'BUI', 'FWI', 'month']]\n",
        "y_test = test_set['Temperature']"
      ],
      "metadata": {
        "id": "znHhHw1YDuUa"
      },
      "execution_count": 298,
      "outputs": []
    },
    {
      "cell_type": "code",
      "source": [
        "import pandas as pd\n",
        "from sklearn.tree import DecisionTreeRegressor\n",
        "from sklearn.preprocessing import StandardScaler, OneHotEncoder\n",
        "from sklearn.pipeline import Pipeline\n",
        "from sklearn.compose import ColumnTransformer\n",
        "from sklearn.model_selection import cross_val_score\n",
        "from sklearn.tree import plot_tree\n",
        "from sklearn.impute import SimpleImputer\n",
        "from sklearn.preprocessing import LabelEncoder\n",
        "from sklearn.tree import DecisionTreeClassifier"
      ],
      "metadata": {
        "id": "nyaawvBQHzMg"
      },
      "execution_count": 299,
      "outputs": []
    },
    {
      "cell_type": "code",
      "source": [
        "X_train.info()"
      ],
      "metadata": {
        "colab": {
          "base_uri": "https://localhost:8080/"
        },
        "id": "9N_NlizBDuSE",
        "outputId": "2007747f-e752-494f-ae9b-1a6f8e18bd41"
      },
      "execution_count": 300,
      "outputs": [
        {
          "output_type": "stream",
          "name": "stdout",
          "text": [
            "<class 'pandas.core.frame.DataFrame'>\n",
            "Index: 195 entries, 164 to 95\n",
            "Data columns (total 12 columns):\n",
            " #   Column       Non-Null Count  Dtype  \n",
            "---  ------       --------------  -----  \n",
            " 0   region       195 non-null    object \n",
            " 1   Temperature  195 non-null    int64  \n",
            " 2    RH          195 non-null    int64  \n",
            " 3   Rain         195 non-null    float64\n",
            " 4    Ws          195 non-null    int64  \n",
            " 5   FFMC         195 non-null    float64\n",
            " 6   DMC          195 non-null    float64\n",
            " 7   DC           195 non-null    object \n",
            " 8   ISI          195 non-null    float64\n",
            " 9   BUI          195 non-null    float64\n",
            " 10  FWI          195 non-null    object \n",
            " 11  month        195 non-null    int64  \n",
            "dtypes: float64(5), int64(4), object(3)\n",
            "memory usage: 19.8+ KB\n"
          ]
        }
      ]
    },
    {
      "cell_type": "code",
      "source": [
        "num_attributes = X_train.select_dtypes(include = ['float64']).columns\n",
        "cat_attributes = X_train.select_dtypes(include = ['object']).columns\n",
        "\n",
        "trf = [ ('num', StandardScaler(), num_attributes),\n",
        "       ('cat', OneHotEncoder( handle_unknown='ignore'), cat_attributes) ]\n",
        "col_transform = ColumnTransformer( transformers = trf )\n",
        "reg_pipeline = Pipeline( steps = [('pre', col_transform),\n",
        " ('clf', DecisionTreeRegressor(max_depth=3))])"
      ],
      "metadata": {
        "id": "UfQIzIeaDuPi"
      },
      "execution_count": 301,
      "outputs": []
    },
    {
      "cell_type": "code",
      "source": [
        "import pandas as pd\n",
        "from sklearn.tree import DecisionTreeRegressor\n",
        "from sklearn.preprocessing import StandardScaler, OneHotEncoder\n",
        "from sklearn.pipeline import Pipeline\n",
        "from sklearn.compose import ColumnTransformer\n",
        "from sklearn.model_selection import cross_val_score\n",
        "from sklearn.tree import plot_tree\n",
        "from sklearn.impute import SimpleImputer # import SimpleImputer for handling missing values\n",
        "from sklearn.preprocessing import LabelEncoder # import LabelEncoder for encoding target variable\n",
        "\n",
        "# ... (Your existing code for train_test_split and data preparation) ...\n",
        "\n",
        "# Modify the pipeline to include imputation and encoding\n",
        "num_attributes = X_train.select_dtypes(include=['float64']).columns\n",
        "cat_attributes = X_train.select_dtypes(include=['object']).columns\n",
        "\n",
        "# Create pipelines for numerical and categorical features\n",
        "num_pipeline = Pipeline([\n",
        "    ('imputer', SimpleImputer(strategy='median')),  # Impute missing numerical values with median\n",
        "    ('std_scaler', StandardScaler()),\n",
        "])\n",
        "\n",
        "cat_pipeline = Pipeline([\n",
        "    ('imputer', SimpleImputer(strategy='most_frequent')),  # Impute missing categorical values with most frequent\n",
        "    ('one_hot', OneHotEncoder(handle_unknown='ignore')),\n",
        "])\n",
        "\n",
        "# Combine pipelines using ColumnTransformer\n",
        "preprocessor = ColumnTransformer(\n",
        "    transformers=[\n",
        "        ('num', num_pipeline, num_attributes),\n",
        "        ('cat', cat_pipeline, cat_attributes),\n",
        "    ])\n",
        "\n",
        "# Encode the target variable using LabelEncoder\n",
        "label_encoder = LabelEncoder()\n",
        "# Fit on both train and test data to ensure all labels are captured\n",
        "label_encoder.fit(pd.concat([y_train, y_test]))\n",
        "y_train_encoded = label_encoder.transform(y_train)\n",
        "y_test_encoded = label_encoder.transform(y_test)\n",
        "y_train = y_train.fillna(y_train.mode()[0])\n",
        "\n",
        "# Impute missing values in y_train before encoding if needed\n",
        "# Assuming 'y_train' is a pandas Series or DataFrame\n",
        "# y_train = y_train.fillna(y_train.median())  # Replace NaN with median, or another suitable strategy\n",
        "\n",
        "# Create the final pipeline\n",
        "reg_pipeline = Pipeline(steps=[\n",
        "    ('preprocessor', preprocessor),\n",
        "    ('regressor', DecisionTreeRegressor(max_depth=3)),\n",
        "])\n",
        "\n",
        "# Perform cross-validation\n",
        "cv_scores = cross_val_score(reg_pipeline, X_train, y_train_encoded, cv=5, scoring='neg_mean_squared_error')  # Use encoded y_train\n",
        "cv_scores"
      ],
      "metadata": {
        "colab": {
          "base_uri": "https://localhost:8080/"
        },
        "id": "EXRX-7tzJKQx",
        "outputId": "1ae1c79d-63e8-4052-e442-2754054c94fd"
      },
      "execution_count": 302,
      "outputs": [
        {
          "output_type": "execute_result",
          "data": {
            "text/plain": [
              "array([ -6.50390446,  -6.49204706,  -5.39703323, -10.40809586,\n",
              "        -6.67622756])"
            ]
          },
          "metadata": {},
          "execution_count": 302
        }
      ]
    },
    {
      "cell_type": "code",
      "source": [
        "mse_scores = -cv_scores\n",
        "mse_scores"
      ],
      "metadata": {
        "colab": {
          "base_uri": "https://localhost:8080/"
        },
        "id": "UR_HAOuJIgPh",
        "outputId": "3066dc07-80a1-4641-fd5b-e549dc03dd3f"
      },
      "execution_count": 303,
      "outputs": [
        {
          "output_type": "execute_result",
          "data": {
            "text/plain": [
              "array([ 6.50390446,  6.49204706,  5.39703323, 10.40809586,  6.67622756])"
            ]
          },
          "metadata": {},
          "execution_count": 303
        }
      ]
    },
    {
      "cell_type": "code",
      "source": [
        "reg_pipeline.fit(X_train, y_train)\n",
        "reg_predictions = reg_pipeline.predict(X_test)"
      ],
      "metadata": {
        "id": "_JUFZadNIgM7"
      },
      "execution_count": 304,
      "outputs": []
    },
    {
      "cell_type": "code",
      "source": [
        "class_pipeline.fit(X_train, y_train)\n",
        "class_predictions = class_pipeline.predict(X_test)"
      ],
      "metadata": {
        "id": "m0kfB70EIgK1"
      },
      "execution_count": 305,
      "outputs": []
    },
    {
      "cell_type": "code",
      "source": [
        "plot_tree(reg_pipeline.named_steps['regressor'])"
      ],
      "metadata": {
        "colab": {
          "base_uri": "https://localhost:8080/",
          "height": 710
        },
        "id": "UDuYEvQnIgIr",
        "outputId": "ff7df9db-e828-4ecf-97f9-b06217888468"
      },
      "execution_count": 308,
      "outputs": [
        {
          "output_type": "execute_result",
          "data": {
            "text/plain": [
              "[Text(0.5, 0.875, 'x[1] <= -0.341\\nsquared_error = 13.924\\nsamples = 195\\nvalue = 32.303'),\n",
              " Text(0.25, 0.625, 'x[1] <= -1.687\\nsquared_error = 6.975\\nsamples = 52\\nvalue = 28.577'),\n",
              " Text(0.375, 0.75, 'True  '),\n",
              " Text(0.125, 0.375, 'x[126] <= 0.5\\nsquared_error = 4.914\\nsamples = 18\\nvalue = 26.556'),\n",
              " Text(0.0625, 0.125, 'squared_error = 2.609\\nsamples = 16\\nvalue = 27.125'),\n",
              " Text(0.1875, 0.125, 'squared_error = 0.0\\nsamples = 2\\nvalue = 22.0'),\n",
              " Text(0.375, 0.375, 'x[0] <= -0.233\\nsquared_error = 4.758\\nsamples = 34\\nvalue = 29.647'),\n",
              " Text(0.3125, 0.125, 'squared_error = 2.876\\nsamples = 11\\nvalue = 28.182'),\n",
              " Text(0.4375, 0.125, 'squared_error = 4.14\\nsamples = 23\\nvalue = 30.348'),\n",
              " Text(0.75, 0.625, 'x[3] <= 0.686\\nsquared_error = 9.568\\nsamples = 143\\nvalue = 33.657'),\n",
              " Text(0.625, 0.75, '  False'),\n",
              " Text(0.625, 0.375, 'x[0] <= -0.281\\nsquared_error = 7.859\\nsamples = 97\\nvalue = 32.701'),\n",
              " Text(0.5625, 0.125, 'squared_error = 7.026\\nsamples = 74\\nvalue = 31.973'),\n",
              " Text(0.6875, 0.125, 'squared_error = 3.346\\nsamples = 23\\nvalue = 35.043'),\n",
              " Text(0.875, 0.375, 'x[1] <= 1.012\\nsquared_error = 7.176\\nsamples = 46\\nvalue = 35.674'),\n",
              " Text(0.8125, 0.125, 'squared_error = 5.507\\nsamples = 39\\nvalue = 35.077'),\n",
              " Text(0.9375, 0.125, 'squared_error = 3.429\\nsamples = 7\\nvalue = 39.0')]"
            ]
          },
          "metadata": {},
          "execution_count": 308
        },
        {
          "output_type": "display_data",
          "data": {
            "text/plain": [
              "<Figure size 640x480 with 1 Axes>"
            ],
            "image/png": "[encoded data removed]"
          },
          "metadata": {}
        }
      ]
    },
    {
      "cell_type": "code",
      "source": [
        "plot_tree(class_pipeline.named_steps['clf'])"
      ],
      "metadata": {
        "colab": {
          "base_uri": "https://localhost:8080/",
          "height": 906
        },
        "id": "TeZZOzS1IgGW",
        "outputId": "fa4ad090-8134-4cce-f546-b330829630b1"
      },
      "execution_count": 309,
      "outputs": [
        {
          "output_type": "execute_result",
          "data": {
            "text/plain": [
              "[Text(0.4583333333333333, 0.875, 'x[4] <= -0.073\\ngini = 0.921\\nsamples = 195\\nvalue = [2, 2, 4, 4, 6, 15, 13, 17, 20, 12, 20, 18, 23\\n18, 9, 2, 6, 3, 1]'),\n",
              " Text(0.25, 0.625, 'x[133] <= 0.5\\ngini = 0.915\\nsamples = 116\\nvalue = [2, 2, 4, 3, 6, 14, 12, 16, 12, 9, 11, 9, 6\\n2, 2, 2, 3, 1, 0]'),\n",
              " Text(0.35416666666666663, 0.75, 'True  '),\n",
              " Text(0.16666666666666666, 0.375, 'x[130] <= 0.5\\ngini = 0.917\\nsamples = 112\\nvalue = [2, 2, 4, 3, 6, 14, 12, 12, 12, 9, 11, 9, 6\\n2, 2, 2, 3, 1, 0]'),\n",
              " Text(0.08333333333333333, 0.125, 'gini = 0.914\\nsamples = 109\\nvalue = [2, 2, 1, 3, 6, 14, 12, 12, 12, 9, 11, 9, 6\\n2, 2, 2, 3, 1, 0]'),\n",
              " Text(0.25, 0.125, 'gini = 0.0\\nsamples = 3\\nvalue = [0, 0, 3, 0, 0, 0, 0, 0, 0, 0, 0, 0, 0, 0\\n0, 0, 0, 0, 0]'),\n",
              " Text(0.3333333333333333, 0.375, 'gini = 0.0\\nsamples = 4\\nvalue = [0, 0, 0, 0, 0, 0, 0, 4, 0, 0, 0, 0, 0, 0\\n0, 0, 0, 0, 0]'),\n",
              " Text(0.6666666666666666, 0.625, 'x[3] <= 0.674\\ngini = 0.864\\nsamples = 79\\nvalue = [0, 0, 0, 1, 0, 1, 1, 1, 8, 3, 9, 9, 17, 16\\n7, 0, 3, 2, 1]'),\n",
              " Text(0.5625, 0.75, '  False'),\n",
              " Text(0.5, 0.375, 'x[3] <= 0.533\\ngini = 0.816\\nsamples = 40\\nvalue = [0, 0, 0, 1, 0, 1, 1, 0, 7, 2, 8, 2, 12, 5\\n1, 0, 0, 0, 0]'),\n",
              " Text(0.4166666666666667, 0.125, 'gini = 0.818\\nsamples = 34\\nvalue = [0, 0, 0, 1, 0, 1, 1, 0, 7, 2, 8, 0, 8, 5\\n1, 0, 0, 0, 0]'),\n",
              " Text(0.5833333333333334, 0.125, 'gini = 0.444\\nsamples = 6\\nvalue = [0, 0, 0, 0, 0, 0, 0, 0, 0, 0, 0, 2, 4, 0\\n0, 0, 0, 0, 0]'),\n",
              " Text(0.8333333333333334, 0.375, 'x[4] <= 0.167\\ngini = 0.836\\nsamples = 39\\nvalue = [0, 0, 0, 0, 0, 0, 0, 1, 1, 1, 1, 7, 5, 11\\n6, 0, 3, 2, 1]'),\n",
              " Text(0.75, 0.125, 'gini = 0.611\\nsamples = 6\\nvalue = [0, 0, 0, 0, 0, 0, 0, 0, 1, 0, 0, 2, 0, 0\\n0, 0, 3, 0, 0]'),\n",
              " Text(0.9166666666666666, 0.125, 'gini = 0.803\\nsamples = 33\\nvalue = [0, 0, 0, 0, 0, 0, 0, 1, 0, 1, 1, 5, 5, 11\\n6, 0, 0, 2, 1]')]"
            ]
          },
          "metadata": {},
          "execution_count": 309
        },
        {
          "output_type": "display_data",
          "data": {
            "text/plain": [
              "<Figure size 640x480 with 1 Axes>"
            ],
            "image/png": "[encoded data removed]"
          },
          "metadata": {}
        }
      ]
    },
    {
      "cell_type": "code",
      "source": [],
      "metadata": {
        "id": "nEmDKUtXIgD_"
      },
      "execution_count": null,
      "outputs": []
    },
    {
      "cell_type": "code",
      "source": [],
      "metadata": {
        "id": "YQMwxbj7IgBP"
      },
      "execution_count": null,
      "outputs": []
    },
    {
      "cell_type": "code",
      "source": [],
      "metadata": {
        "id": "ShlD8TEo9t_3"
      },
      "execution_count": null,
      "outputs": []
    },
    {
      "cell_type": "code",
      "source": [
        "#this just removes spaces so that all the fires, not fires, and nan are the space due to spacing.\n",
        "df[\"Classes  \"] = df[\"Classes  \"].str.strip()"
      ],
      "metadata": {
        "id": "GGjY8GVf2m3o"
      },
      "execution_count": null,
      "outputs": []
    },
    {
      "cell_type": "code",
      "source": [
        "df[\"Classes  \"].unique()"
      ],
      "metadata": {
        "id": "HXAytJCf2m6M"
      },
      "execution_count": null,
      "outputs": []
    },
    {
      "cell_type": "code",
      "source": [
        "target = \"Classes  \"\n",
        "attribute = \"Rain \""
      ],
      "metadata": {
        "id": "j8IDxC-u4lRx"
      },
      "execution_count": null,
      "outputs": []
    },
    {
      "cell_type": "code",
      "source": [
        "vals = df[attribute].unique()\n",
        "vals\n"
      ],
      "metadata": {
        "id": "L2BQ63D35R3C"
      },
      "execution_count": null,
      "outputs": []
    },
    {
      "cell_type": "code",
      "source": [
        "props = df[ df[attribute] == vals[0] ][target].value_counts( normalize=True )\n",
        "props"
      ],
      "metadata": {
        "id": "bjgqqxpH5r8w"
      },
      "execution_count": null,
      "outputs": []
    },
    {
      "cell_type": "code",
      "source": [
        "entropy = 0\n",
        "for p in props.array:\n",
        "  entropy = entropy - p*math.log2(p)\n",
        "entropy"
      ],
      "metadata": {
        "id": "rAI-5XMZ6LWZ"
      },
      "execution_count": null,
      "outputs": []
    },
    {
      "cell_type": "code",
      "source": [
        "entropy = 0\n",
        "for i in range(len(props)):\n",
        "  entropy = entropy - props.iloc[i]*math.log2( props.iloc[i] )\n",
        "entropy"
      ],
      "metadata": {
        "id": "yZo2DoZs6QsQ"
      },
      "execution_count": null,
      "outputs": []
    },
    {
      "cell_type": "code",
      "source": [
        "entropy = 0\n",
        "overall = len( df )\n",
        "for val in vals:\n",
        "  subset_size = len(df[ df[attribute] == val ])\n",
        "  weight = subset_size / overall\n",
        "  props = df[ df[attribute] == val ][target].value_counts( normalize=True )\n",
        "  for p in props.array:\n",
        "    entropy =  entropy - weight*(p*math.log2(p))\n",
        "\n",
        "entropy"
      ],
      "metadata": {
        "id": "6_j0MYXb6YT-"
      },
      "execution_count": null,
      "outputs": []
    },
    {
      "cell_type": "code",
      "source": [
        "vals.sort()\n",
        "vals"
      ],
      "metadata": {
        "id": "-O-phR1c7iO6"
      },
      "execution_count": null,
      "outputs": []
    },
    {
      "cell_type": "code",
      "source": [
        "print(features)"
      ],
      "metadata": {
        "id": "f5iy3riDAK3B"
      },
      "execution_count": null,
      "outputs": []
    },
    {
      "cell_type": "code",
      "source": [
        "#df['FWI'] = pd.to_numeric(df['FWI'], errors='coerce')\n",
        "overall = len( df )\n",
        "entropies = []\n",
        "for feature in features:\n",
        "  vals = df[ feature ].unique()\n",
        "  vals.sort()\n",
        "  for val in vals:\n",
        "    entropy = 0\n",
        "    left = df[ df[feature] <= val ][ [feature,target] ]\n",
        "    props = left[ target ].value_counts( normalize = True )\n",
        "    weight = len( left ) / overall\n",
        "    for prop in props.array:\n",
        "      entropy = entropy - weight*prop*math.log2( prop )\n",
        "    right = df[ df[feature] > val ][ [feature,target] ]\n",
        "    props = right[ target ].value_counts( normalize = True )\n",
        "    weight = len( right ) / overall\n",
        "    for prop in props.array:\n",
        "      entropy = entropy - weight*prop*math.log2( prop )\n",
        "  entropies.append(entropy)\n"
      ],
      "metadata": {
        "id": "O74yzy7H8CCP"
      },
      "execution_count": null,
      "outputs": []
    },
    {
      "cell_type": "code",
      "source": [
        "entropy"
      ],
      "metadata": {
        "id": "_e0tEP5LSRqz"
      },
      "execution_count": null,
      "outputs": []
    },
    {
      "cell_type": "code",
      "source": [
        "pd.Series( entropies ).idxmin()"
      ],
      "metadata": {
        "id": "42isYpPFJYFz"
      },
      "execution_count": null,
      "outputs": []
    },
    {
      "cell_type": "code",
      "source": [
        "entropies[1]"
      ],
      "metadata": {
        "id": "_RigOnsvJe5J"
      },
      "execution_count": null,
      "outputs": []
    },
    {
      "cell_type": "code",
      "source": [
        "entropies"
      ],
      "metadata": {
        "id": "Nu3gt8fg0-ME"
      },
      "execution_count": null,
      "outputs": []
    },
    {
      "cell_type": "code",
      "source": [
        "vals[21]"
      ],
      "metadata": {
        "id": "-F5EGGsXJbDc"
      },
      "execution_count": null,
      "outputs": []
    }
  ]
}